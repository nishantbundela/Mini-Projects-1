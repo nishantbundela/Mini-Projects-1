{
 "cells": [
  {
   "cell_type": "code",
   "execution_count": 16,
   "id": "8dce0353-f881-4e99-83bc-77d88854a7ec",
   "metadata": {},
   "outputs": [],
   "source": [
    "import os\n",
    "import shutil\n",
    "from PIL import Image\n",
    "from settings import *"
   ]
  },
  {
   "cell_type": "code",
   "execution_count": 17,
   "id": "b7727151-3993-443c-9c75-d7a0bdc8b709",
   "metadata": {},
   "outputs": [],
   "source": [
    "invalid_images = []\n",
    "\n",
    "for folder in FOLDERS:\n",
    "    fname = os.path.join(IMAGE_DIR, folder)\n",
    "    \n",
    "    for im in os.listdir(fname):\n",
    "        impath = os.path.join(fname, im)\n",
    "        \n",
    "        extension = im.split(\".\")[-1]\n",
    "        if extension not in VALID_EXTENSIONS:\n",
    "            invalid_images.append(impath)\n",
    "            continue\n",
    "            \n",
    "        try:\n",
    "            img = Image.open(impath)\n",
    "            bands = img.getbands()\n",
    "            if (min(img.size)) < MIN_SIZE or len(bands) != 3:\n",
    "                invalid_images.append(impath)\n",
    "            \n",
    "        except Exception:\n",
    "            invalid_images.append(impath)"
   ]
  },
  {
   "cell_type": "code",
   "execution_count": 18,
   "id": "2591fcde-c21f-499c-828b-dd2b9b0999c3",
   "metadata": {},
   "outputs": [
    {
     "data": {
      "text/plain": [
       "1"
      ]
     },
     "execution_count": 18,
     "metadata": {},
     "output_type": "execute_result"
    }
   ],
   "source": [
    "len(invalid_images)"
   ]
  },
  {
   "cell_type": "code",
   "execution_count": 19,
   "id": "f95b1435-1e8a-49b6-8249-6eaa4e79de8d",
   "metadata": {},
   "outputs": [],
   "source": [
    "def remove_items(items):\n",
    "    for item in items:\n",
    "        try:\n",
    "            os.remove(item)\n",
    "        except PermissionError:\n",
    "            shutil.rmtree(item)"
   ]
  },
  {
   "cell_type": "code",
   "execution_count": 20,
   "id": "c9f85000-7533-46a4-a113-be3246773da1",
   "metadata": {},
   "outputs": [],
   "source": [
    "remove_items(invalid_images)"
   ]
  },
  {
   "cell_type": "code",
   "execution_count": 12,
   "id": "06d69004-63bb-42bd-9857-966e828a1667",
   "metadata": {},
   "outputs": [],
   "source": [
    "to_delete = []\n",
    "\n",
    "for folder in FOLDERS:\n",
    "    fname = os.path.join(IMAGE_DIR, folder)\n",
    "    for im in os.listdir(fname):\n",
    "        impath = os.path.join(fname, im)\n",
    "        extension = im.split(\".\")[-1]\n",
    "        \n",
    "        new_path = impath.replace(f\".{extension}\", \".jpg\")\n",
    "        \n",
    "        img = Image.open(impath)\n",
    "        if img.size[0] != img.size[1]:\n",
    "            img_min_size = min(img.size)\n",
    "            try:\n",
    "                img_resized = img.crop((\n",
    "                             (img.size[0] - img_min_size) // 2,\n",
    "                             (img.size[1] - img_min_size) // 2,\n",
    "                             (img.size[0] + img_min_size) // 2,\n",
    "                             (img.size[1] + img_min_size) // 2\n",
    "                ))\n",
    "\n",
    "            except Exception:\n",
    "                to_delete.append(impath)\n",
    "        else:\n",
    "            img_resized = img\n",
    "        \n",
    "        img_resized = img_resized.convert(\"RGB\")\n",
    "        img_resized.thumbnail((MIN_SIZE, MIN_SIZE), Image.Resampling.LANCZOS)\n",
    "\n",
    "        img_resized.save(new_path)\n",
    "        if new_path != impath:\n",
    "            to_delete.append(impath)"
   ]
  },
  {
   "cell_type": "code",
   "execution_count": 13,
   "id": "8a10d424-eccf-41d7-b691-41c6777b8617",
   "metadata": {},
   "outputs": [
    {
     "data": {
      "text/plain": [
       "0"
      ]
     },
     "execution_count": 13,
     "metadata": {},
     "output_type": "execute_result"
    }
   ],
   "source": [
    "len(to_delete)"
   ]
  },
  {
   "cell_type": "code",
   "execution_count": 14,
   "id": "c7173e93-2205-4bbb-889e-e527d9ef3dc3",
   "metadata": {},
   "outputs": [],
   "source": [
    "remove_items(to_delete)"
   ]
  },
  {
   "cell_type": "code",
   "execution_count": null,
   "id": "f5141c9e-b615-4492-81bb-6ba08ddbac37",
   "metadata": {},
   "outputs": [],
   "source": []
  }
 ],
 "metadata": {
  "kernelspec": {
   "display_name": "Python 3 (ipykernel)",
   "language": "python",
   "name": "python3"
  },
  "language_info": {
   "codemirror_mode": {
    "name": "ipython",
    "version": 3
   },
   "file_extension": ".py",
   "mimetype": "text/x-python",
   "name": "python",
   "nbconvert_exporter": "python",
   "pygments_lexer": "ipython3",
   "version": "3.9.13"
  }
 },
 "nbformat": 4,
 "nbformat_minor": 5
}
