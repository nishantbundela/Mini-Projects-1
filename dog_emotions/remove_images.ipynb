{
 "cells": [
  {
   "cell_type": "code",
   "execution_count": 1,
   "id": "34fcc05d-07a3-461b-b793-d52362fbb93d",
   "metadata": {},
   "outputs": [],
   "source": [
    "import torch\n",
    "from PIL import Image\n",
    "import os\n",
    "import re\n",
    "from settings import *"
   ]
  },
  {
   "cell_type": "code",
   "execution_count": 2,
   "id": "4d91c7a8-13fa-48fa-af00-1fcb6d42e662",
   "metadata": {},
   "outputs": [],
   "source": [
    "import timm\n",
    "from timm.data import resolve_data_config\n",
    "from timm.data.transforms_factory import create_transform\n",
    "\n",
    "model = timm.create_model('convnext_small_384_in22ft1k', pretrained=True)\n",
    "model.eval()\n",
    "\n",
    "config = resolve_data_config({}, model=model)\n",
    "transform = create_transform(**config)"
   ]
  },
  {
   "cell_type": "code",
   "execution_count": 3,
   "id": "c909840d-cb34-4cef-b33f-ae663bfbf8e2",
   "metadata": {},
   "outputs": [
    {
     "data": {
      "text/plain": [
       "Compose(\n",
       "    Resize(size=384, interpolation=bicubic, max_size=None, antialias=None)\n",
       "    CenterCrop(size=(384, 384))\n",
       "    ToTensor()\n",
       "    Normalize(mean=tensor([0.4850, 0.4560, 0.4060]), std=tensor([0.2290, 0.2240, 0.2250]))\n",
       ")"
      ]
     },
     "execution_count": 3,
     "metadata": {},
     "output_type": "execute_result"
    }
   ],
   "source": [
    "transform"
   ]
  },
  {
   "cell_type": "code",
   "execution_count": 4,
   "id": "5497e379-4d31-4f8a-9d8f-0601f5dc13f6",
   "metadata": {},
   "outputs": [],
   "source": [
    "device = torch.device(DEVICE)"
   ]
  },
  {
   "cell_type": "code",
   "execution_count": null,
   "id": "390a9a6e-22af-4d6a-ac5b-79b30b7fc8f5",
   "metadata": {
    "tags": []
   },
   "outputs": [],
   "source": [
    "model.to(device)"
   ]
  },
  {
   "cell_type": "code",
   "execution_count": 6,
   "id": "52eb1b24-6ccb-45e1-8934-3c126472996c",
   "metadata": {},
   "outputs": [],
   "source": [
    "img_files = []\n",
    "\n",
    "for folder in FOLDERS:\n",
    "    fname = os.path.join(IMAGE_DIR, folder)\n",
    "    \n",
    "    for im in os.listdir(fname):\n",
    "        impath = os.path.join(fname, im)\n",
    "        img_files.append(impath)"
   ]
  },
  {
   "cell_type": "code",
   "execution_count": 7,
   "id": "f55396a1-3c16-441f-a471-461e0b24b246",
   "metadata": {},
   "outputs": [],
   "source": [
    "def read_labels(fname):\n",
    "    with open(fname, \"r\") as f:\n",
    "        labels = [re.sub('[^0-9a-zA-Z ]+', \" \", s.lower().strip()) for s in f.readlines()]\n",
    "    return labels"
   ]
  },
  {
   "cell_type": "code",
   "execution_count": 8,
   "id": "ff1bd8ca-bdeb-4e4b-afff-354c80430f41",
   "metadata": {},
   "outputs": [],
   "source": [
    "categories = read_labels(\"imagenet_classes.txt\")"
   ]
  },
  {
   "cell_type": "code",
   "execution_count": 9,
   "id": "65a1cbc0-201d-4164-8926-6db7e8c84d63",
   "metadata": {},
   "outputs": [],
   "source": [
    "dog_labels = read_labels(\"dog_labels.txt\")"
   ]
  },
  {
   "cell_type": "code",
   "execution_count": 10,
   "id": "912f6a20-7b5c-4e1b-ac4b-b15e06c2385b",
   "metadata": {},
   "outputs": [],
   "source": [
    "def detect_dog(img_file, transform):\n",
    "    input_tensor = transform(Image.open(img_file))\n",
    "    input_batch = input_tensor.unsqueeze(0)\n",
    "    input_batch = input_batch.to(device)\n",
    "\n",
    "    with torch.no_grad():\n",
    "        output = model(input_batch)\n",
    "    \n",
    "    probabilities = torch.nn.functional.softmax(output[0], dim=0)\n",
    "    top5_prob, top5_catid = torch.topk(probabilities, 5)\n",
    "    cats = set([categories[c] for c in top5_catid])\n",
    "    dog_cats = cats.intersection(set(dog_labels))\n",
    "        \n",
    "    return len(dog_cats) > 0, cats"
   ]
  },
  {
   "cell_type": "code",
   "execution_count": 11,
   "id": "77b9c928-f2a9-4c1b-9b6b-0e271becc719",
   "metadata": {},
   "outputs": [],
   "source": [
    "to_delete = []\n",
    "to_keep = []\n",
    "\n",
    "for img in img_files:\n",
    "    dog, classes = detect_dog(img, transform)\n",
    "    \n",
    "    if dog:\n",
    "        to_keep.append(img)\n",
    "    else:\n",
    "        to_delete.append(img)"
   ]
  },
  {
   "cell_type": "code",
   "execution_count": 12,
   "id": "90f2b43a-793a-4be0-a93c-8c6b5d2a8dc6",
   "metadata": {},
   "outputs": [
    {
     "data": {
      "text/plain": [
       "1797"
      ]
     },
     "execution_count": 12,
     "metadata": {},
     "output_type": "execute_result"
    }
   ],
   "source": [
    "len(to_delete)"
   ]
  },
  {
   "cell_type": "code",
   "execution_count": 13,
   "id": "a761c047-8254-4d69-901c-20398003ba0b",
   "metadata": {},
   "outputs": [
    {
     "data": {
      "text/plain": [
       "15921"
      ]
     },
     "execution_count": 13,
     "metadata": {},
     "output_type": "execute_result"
    }
   ],
   "source": [
    "len(to_keep)"
   ]
  },
  {
   "cell_type": "code",
   "execution_count": 14,
   "id": "2d0ad37e-ca75-40e2-ad3e-f6f93429da9a",
   "metadata": {},
   "outputs": [],
   "source": [
    "def remove_items(items):\n",
    "    for item in items:\n",
    "        os.remove(item)"
   ]
  },
  {
   "cell_type": "code",
   "execution_count": 15,
   "id": "03bf2338-1ea1-4d36-b461-f17736e8533f",
   "metadata": {},
   "outputs": [],
   "source": [
    "remove_items(to_delete)"
   ]
  },
  {
   "cell_type": "code",
   "execution_count": null,
   "id": "96e050dd-3218-4ea7-be21-54291382fb81",
   "metadata": {},
   "outputs": [],
   "source": []
  }
 ],
 "metadata": {
  "kernelspec": {
   "display_name": "Python 3 (ipykernel)",
   "language": "python",
   "name": "python3"
  },
  "language_info": {
   "codemirror_mode": {
    "name": "ipython",
    "version": 3
   },
   "file_extension": ".py",
   "mimetype": "text/x-python",
   "name": "python",
   "nbconvert_exporter": "python",
   "pygments_lexer": "ipython3",
   "version": "3.9.13"
  }
 },
 "nbformat": 4,
 "nbformat_minor": 5
}
