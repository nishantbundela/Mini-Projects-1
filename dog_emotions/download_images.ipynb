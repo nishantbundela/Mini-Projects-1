{
 "cells": [
  {
   "cell_type": "code",
   "execution_count": null,
   "id": "05ab2eb3-3a2e-4c9d-b543-1a22b0f4cd6f",
   "metadata": {},
   "outputs": [],
   "source": [
    "#%pip install -U git+https://github.com/sybrenstuvel/flickrapi.git@master"
   ]
  },
  {
   "cell_type": "code",
   "execution_count": 1,
   "id": "aa537cc8-5908-4633-a220-8ac1ab7d4398",
   "metadata": {},
   "outputs": [],
   "source": [
    "from settings import *\n",
    "from flickrapi import FlickrAPI\n",
    "import time\n",
    "import os\n",
    "import requests\n",
    "import math"
   ]
  },
  {
   "cell_type": "code",
   "execution_count": 2,
   "id": "4f375fe9-8aef-4339-b690-e66f903c5050",
   "metadata": {},
   "outputs": [],
   "source": [
    "def download_photos(emotion, max_download=500):\n",
    "    flickr = FlickrAPI(FL_API_KEY, FL_API_SECRET, format='parsed-json')\n",
    "    pages = math.ceil(max_download/500)\n",
    "    search_query = emotion + \" dog\"\n",
    "    photos = []\n",
    "    \n",
    "    save_path = os.path.join(IMAGE_DIR, emotion)\n",
    "    if not os.path.exists(save_path):\n",
    "        os.makedirs(save_path)\n",
    "        \n",
    "    for p in range(0, pages):\n",
    "        photo_data = flickr.photos.search(text=search_query,\n",
    "                             extras='url_l',\n",
    "                             per_page=max_download,\n",
    "                             sort='relevance',\n",
    "                             safe_search=1,\n",
    "                             page=p+1\n",
    "                            )\n",
    "        photos += photo_data[\"photos\"][\"photo\"]\n",
    "        time.sleep(1.1)\n",
    "    \n",
    "    \n",
    "    urls = []\n",
    "    for photo in photos:\n",
    "        try:\n",
    "            url = photo.get('url_l')\n",
    "            if url is None:\n",
    "                url = f\"https://farm{photo.get('farm')}.staticflickr.com/{photo.get('server')}/{photo.get('id')}_{photo.get('secret')}_b.jpg\"\n",
    "\n",
    "            photo_name = os.path.basename(url)\n",
    "            \n",
    "            extension = photo_name.split(\".\")[-1]\n",
    "            if extension not in VALID_EXTENSIONS:\n",
    "                continue\n",
    "            \n",
    "            photo_path = os.path.join(save_path, photo_name)\n",
    "            if os.path.exists(photo_path):\n",
    "                continue\n",
    "                \n",
    "            photo_data = requests.get(url, timeout=10).content\n",
    "            \n",
    "            with open(photo_path, 'wb+') as f:\n",
    "                f.write(photo_data)\n",
    "\n",
    "            urls.append(url)\n",
    "            time.sleep(1.01)\n",
    "        except Exception:\n",
    "            pass"
   ]
  },
  {
   "cell_type": "code",
   "execution_count": null,
   "id": "39fc3055-2254-4485-a245-4c04899588c4",
   "metadata": {},
   "outputs": [],
   "source": [
    "for emotion in FOLDERS:\n",
    "    download_photos(emotion, 5000)"
   ]
  },
  {
   "cell_type": "code",
   "execution_count": null,
   "id": "623ee87f-37d2-4b7b-a597-64430263d98a",
   "metadata": {},
   "outputs": [],
   "source": []
  }
 ],
 "metadata": {
  "kernelspec": {
   "display_name": "Python 3 (ipykernel)",
   "language": "python",
   "name": "python3"
  },
  "language_info": {
   "codemirror_mode": {
    "name": "ipython",
    "version": 3
   },
   "file_extension": ".py",
   "mimetype": "text/x-python",
   "name": "python",
   "nbconvert_exporter": "python",
   "pygments_lexer": "ipython3",
   "version": "3.9.13"
  }
 },
 "nbformat": 4,
 "nbformat_minor": 5
}
