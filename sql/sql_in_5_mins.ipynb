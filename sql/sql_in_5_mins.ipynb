{
 "cells": [
  {
   "cell_type": "code",
   "execution_count": 1,
   "id": "163bf592-82bb-4c4b-8092-615d933cef1f",
   "metadata": {},
   "outputs": [],
   "source": [
    "import sqlite3\n",
    "con = sqlite3.connect(':memory:')"
   ]
  },
  {
   "cell_type": "code",
   "execution_count": 2,
   "id": "7df446ae-c99e-4416-949b-3babdfc7d195",
   "metadata": {},
   "outputs": [
    {
     "data": {
      "text/plain": [
       "<sqlite3.Cursor at 0x111203f80>"
      ]
     },
     "execution_count": 2,
     "metadata": {},
     "output_type": "execute_result"
    }
   ],
   "source": [
    "cur = con.cursor()\n",
    "cur.execute('''CREATE TABLE countries\n",
    "               (name text, gdp real, population real)''')"
   ]
  },
  {
   "cell_type": "code",
   "execution_count": 3,
   "id": "1ccde894-5878-43f0-9521-1b7d04bd61dd",
   "metadata": {},
   "outputs": [],
   "source": [
    "cur.execute(\"INSERT INTO countries VALUES ('United States',19.485,325.085)\")\n",
    "con.commit()"
   ]
  },
  {
   "cell_type": "code",
   "execution_count": 4,
   "id": "ccf661ad-3e31-46eb-b281-a084b0d80ad7",
   "metadata": {},
   "outputs": [],
   "source": [
    "cur.execute(\"INSERT INTO countries VALUES ('China',12.238,1421.022)\")\n",
    "cur.execute(\"INSERT INTO countries VALUES ('Japan',4.872,127.503)\")\n",
    "con.commit()"
   ]
  },
  {
   "cell_type": "code",
   "execution_count": 5,
   "id": "6ac3cbeb-b9fa-4e5b-81a3-8683a6b3575d",
   "metadata": {},
   "outputs": [
    {
     "name": "stdout",
     "output_type": "stream",
     "text": [
      "[('United States', 19.485, 325.085), ('China', 12.238, 1421.022)]\n"
     ]
    }
   ],
   "source": [
    "cur.execute(\"SELECT * FROM countries WHERE gdp > 5;\")\n",
    "print(cur.fetchall())"
   ]
  },
  {
   "cell_type": "code",
   "execution_count": null,
   "id": "48403012-84eb-4ce4-bb60-ad4b3ebbc7fc",
   "metadata": {},
   "outputs": [],
   "source": []
  },
  {
   "cell_type": "code",
   "execution_count": 6,
   "id": "260e8aa5-c7b4-46fc-a209-55432baed5d1",
   "metadata": {},
   "outputs": [],
   "source": [
    "cur.execute('''CREATE TABLE growth\n",
    "               (name text, gdp_growth real)''')\n",
    "cur.execute(\"INSERT INTO growth VALUES ('United States',2.27)\")\n",
    "cur.execute(\"INSERT INTO growth VALUES ('China',6.9)\")\n",
    "cur.execute(\"INSERT INTO growth VALUES ('Japan',1.71)\")\n",
    "con.commit()"
   ]
  },
  {
   "cell_type": "code",
   "execution_count": 19,
   "id": "151e961b-feaf-4b18-a8ab-de9661484861",
   "metadata": {},
   "outputs": [
    {
     "name": "stdout",
     "output_type": "stream",
     "text": [
      "[(15.8615, 31.723, 2)]\n",
      "['AVG(gdp)', 'SUM(gdp)', 'COUNT(gdp)']\n"
     ]
    }
   ],
   "source": [
    "cur.execute(\"SELECT AVG(gdp), SUM(gdp), COUNT(gdp) FROM countries WHERE gdp > 5\")\n",
    "print(cur.fetchall())\n",
    "print([description[0] for description in cur.description])"
   ]
  },
  {
   "cell_type": "code",
   "execution_count": null,
   "id": "ffbd02a1-52e4-4fd9-8d59-8a0e8970a92e",
   "metadata": {},
   "outputs": [],
   "source": []
  }
 ],
 "metadata": {
  "kernelspec": {
   "display_name": "Python 3 (ipykernel)",
   "language": "python",
   "name": "python3"
  },
  "language_info": {
   "codemirror_mode": {
    "name": "ipython",
    "version": 3
   },
   "file_extension": ".py",
   "mimetype": "text/x-python",
   "name": "python",
   "nbconvert_exporter": "python",
   "pygments_lexer": "ipython3",
   "version": "3.9.13"
  }
 },
 "nbformat": 4,
 "nbformat_minor": 5
}
