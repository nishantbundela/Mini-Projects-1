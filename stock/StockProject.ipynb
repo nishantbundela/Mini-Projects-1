{
 "cells": [
  {
   "cell_type": "markdown",
   "id": "0f145a2c-78c1-4e51-8943-4438df9c6154",
   "metadata": {},
   "source": [
    "# Stock Price Prediction\n",
    "\n",
    "Let's say we want to make money by buying stocks.  Since we want to make money, we only want to buy stock on days when the price will go up (we're against shorting the stock).  We'll create a machine learning algorithm to predict if the stock price will increase tomorrow.  If the algorithm says that the price will increase, we'll buy stock.  If the algorithm says that the price will go down, we won't do anything.\n",
    "\n",
    "We want to maximize our `true positives` - days when the algorithm predicts that the price will go up, and it actually goes go up.  Therefore, we'll be using precision as our error metric for our algorithm, which is `true positives / (false positives + true positives)`.  This will ensure that we minimize how much money we lose with `false positives` (days when we buy the stock, but the price actually goes down).\n",
    "\n",
    "This means that we will have to accept a lot of `false negatives` - days when we predict that the price will go down, but it actually goes up.  This is okay, since we'd rather minimize our potential losses than maximize our potential gains.\n",
    "\n",
    "## Method\n",
    "\n",
    "Before we get to the machine learning, we need to do a lot of work to acquire and clean up the data.  Here are the steps we'll follow:\n",
    "\n",
    "* Download historical stock prices from Yahoo finance\n",
    "* Explore the data\n",
    "* Setup the dataset to predict future prices using historical prices\n",
    "* Test a machine learning model\n",
    "* Setup a backtesting engine\n",
    "* Improve the accuracy of the model\n",
    "\n",
    "At the end, we'll document some potential future directions we can go in to improve the technique."
   ]
  },
  {
   "cell_type": "markdown",
   "id": "46c2533c-6032-49df-9547-4a7aac1bf0ed",
   "metadata": {},
   "source": [
    "## Downloading the data\n",
    "\n",
    "First, we'll download the data from Yahoo Finance.  We'll save the data after we download it, so we don't have to re-download it every time (this could cause our IP to get blocked).\n",
    "\n",
    "We'll use data for a single stock (Microsoft) from when it started trading to the present."
   ]
  },
  {
   "cell_type": "code",
   "execution_count": 191,
   "id": "abf9c5d8-94b1-40d4-9565-757736f4932a",
   "metadata": {},
   "outputs": [],
   "source": [
    "# Import finance API and get historical stock data\n",
    "\n",
    "import yfinance as yf\n",
    "import os\n",
    "import json\n",
    "import pandas as pd\n",
    "\n",
    "DATA_PATH = \"msft_data.json\"\n",
    "\n",
    "if os.path.exists(DATA_PATH):\n",
    "    # Read from file if we've already downloaded the data.\n",
    "    with open(DATA_PATH) as f:\n",
    "        msft_hist = pd.read_json(DATA_PATH)\n",
    "else:\n",
    "    msft = yf.Ticker(\"MSFT\")\n",
    "    msft_hist = msft.history(period=\"max\")\n",
    "\n",
    "    # Save file to json in case we need it later.  This prevents us from having to re-download it every time.\n",
    "    msft_hist.to_json(DATA_PATH)"
   ]
  },
  {
   "cell_type": "markdown",
   "id": "9693d9aa-81bb-471f-8601-0970c7da88ca",
   "metadata": {},
   "source": [
    "As we can see, we have one row of data for each day that Microsoft stock was traded.  Here are the columns:\n",
    "\n",
    "* Open - the price the stock opened at.\n",
    "* High - the highest price during the day\n",
    "* Low - the lowest price during the day\n",
    "* Close - the closing price on the trading day\n",
    "* Volume - how many shares were traded\n",
    "\n",
    "Stock doesn't trade every day (there is no trading on weekends and holidays), so some dates are missing."
   ]
  },
  {
   "cell_type": "code",
   "execution_count": 192,
   "id": "e33e6f49-7233-40b7-86ea-96d4a6978a01",
   "metadata": {},
   "outputs": [
    {
     "data": {
      "text/html": [
       "<div>\n",
       "<style scoped>\n",
       "    .dataframe tbody tr th:only-of-type {\n",
       "        vertical-align: middle;\n",
       "    }\n",
       "\n",
       "    .dataframe tbody tr th {\n",
       "        vertical-align: top;\n",
       "    }\n",
       "\n",
       "    .dataframe thead th {\n",
       "        text-align: right;\n",
       "    }\n",
       "</style>\n",
       "<table border=\"1\" class=\"dataframe\">\n",
       "  <thead>\n",
       "    <tr style=\"text-align: right;\">\n",
       "      <th></th>\n",
       "      <th>Open</th>\n",
       "      <th>High</th>\n",
       "      <th>Low</th>\n",
       "      <th>Close</th>\n",
       "      <th>Volume</th>\n",
       "      <th>Dividends</th>\n",
       "      <th>Stock Splits</th>\n",
       "    </tr>\n",
       "  </thead>\n",
       "  <tbody>\n",
       "    <tr>\n",
       "      <th>1986-03-13</th>\n",
       "      <td>0.055898</td>\n",
       "      <td>0.064119</td>\n",
       "      <td>0.055898</td>\n",
       "      <td>0.061378</td>\n",
       "      <td>1031788800</td>\n",
       "      <td>0.0</td>\n",
       "      <td>0.0</td>\n",
       "    </tr>\n",
       "    <tr>\n",
       "      <th>1986-03-14</th>\n",
       "      <td>0.061378</td>\n",
       "      <td>0.064667</td>\n",
       "      <td>0.061378</td>\n",
       "      <td>0.063570</td>\n",
       "      <td>308160000</td>\n",
       "      <td>0.0</td>\n",
       "      <td>0.0</td>\n",
       "    </tr>\n",
       "    <tr>\n",
       "      <th>1986-03-17</th>\n",
       "      <td>0.063570</td>\n",
       "      <td>0.065215</td>\n",
       "      <td>0.063570</td>\n",
       "      <td>0.064667</td>\n",
       "      <td>133171200</td>\n",
       "      <td>0.0</td>\n",
       "      <td>0.0</td>\n",
       "    </tr>\n",
       "    <tr>\n",
       "      <th>1986-03-18</th>\n",
       "      <td>0.064667</td>\n",
       "      <td>0.065215</td>\n",
       "      <td>0.062474</td>\n",
       "      <td>0.063022</td>\n",
       "      <td>67766400</td>\n",
       "      <td>0.0</td>\n",
       "      <td>0.0</td>\n",
       "    </tr>\n",
       "    <tr>\n",
       "      <th>1986-03-19</th>\n",
       "      <td>0.063022</td>\n",
       "      <td>0.063570</td>\n",
       "      <td>0.061378</td>\n",
       "      <td>0.061926</td>\n",
       "      <td>47894400</td>\n",
       "      <td>0.0</td>\n",
       "      <td>0.0</td>\n",
       "    </tr>\n",
       "  </tbody>\n",
       "</table>\n",
       "</div>"
      ],
      "text/plain": [
       "                Open      High       Low     Close      Volume  Dividends  \\\n",
       "1986-03-13  0.055898  0.064119  0.055898  0.061378  1031788800        0.0   \n",
       "1986-03-14  0.061378  0.064667  0.061378  0.063570   308160000        0.0   \n",
       "1986-03-17  0.063570  0.065215  0.063570  0.064667   133171200        0.0   \n",
       "1986-03-18  0.064667  0.065215  0.062474  0.063022    67766400        0.0   \n",
       "1986-03-19  0.063022  0.063570  0.061378  0.061926    47894400        0.0   \n",
       "\n",
       "            Stock Splits  \n",
       "1986-03-13           0.0  \n",
       "1986-03-14           0.0  \n",
       "1986-03-17           0.0  \n",
       "1986-03-18           0.0  \n",
       "1986-03-19           0.0  "
      ]
     },
     "execution_count": 192,
     "metadata": {},
     "output_type": "execute_result"
    }
   ],
   "source": [
    "# Display microsoft stock price history so we can look at the structure of the data\n",
    "msft_hist.head(5)"
   ]
  },
  {
   "cell_type": "markdown",
   "id": "0f876a5d-3256-496b-b74d-06356789b07a",
   "metadata": {},
   "source": [
    "Next, we'll plot the data so we can see how the stock price has changed over time.  This gives us another overview of the structure of the data."
   ]
  },
  {
   "cell_type": "code",
   "execution_count": 193,
   "id": "fadf28ca-5a8c-421e-b4ef-cd02def0a895",
   "metadata": {},
   "outputs": [
    {
     "data": {
      "text/plain": [
       "<AxesSubplot:>"
      ]
     },
     "execution_count": 193,
     "metadata": {},
     "output_type": "execute_result"
    },
    {
     "data": {
      "image/png": "[encoded data removed]",
      "text/plain": [
       "<Figure size 432x288 with 1 Axes>"
      ]
     },
     "metadata": {
      "needs_background": "light"
     },
     "output_type": "display_data"
    }
   ],
   "source": [
    "# Visualize microsoft stock prices\n",
    "msft_hist.plot.line(y=\"Close\", use_index=True)"
   ]
  },
  {
   "cell_type": "markdown",
   "id": "71a6f21e-affe-43ee-aa38-729acc40bbb0",
   "metadata": {},
   "source": [
    "## Preparing the data\n",
    "\n",
    "Ok, hopefully you've stopped kicking yourself for not buying Microsoft stock at any point in the past 30 years now. \n",
    "\n",
    "Now, let's prepare the data so we can make predictions.  We'll be predicting if the price will go up or down tomorrow based on data from today.\n",
    "\n",
    "First, we'll identify a target that we're trying to predict.  Our target will be if the price will go up or down tomorrow.  If the price went up, the target will be `1` and if it went down, the target will be `0`.\n",
    "\n",
    "Next, we'll shift the data from previous days \"forward\" one day, so we can use it to predict the target price.  This ensures that we don't accidentally use data from the same day to make predictions! (a very common mistake)\n",
    "\n",
    "Then, we'll combine both so we have our training data."
   ]
  },
  {
   "cell_type": "code",
   "execution_count": 194,
   "id": "05310dc8-05bc-4513-aac6-2ae85b82db69",
   "metadata": {},
   "outputs": [],
   "source": [
    "# Ensure we know the actual closing price\n",
    "data = msft_hist[[\"Close\"]]\n",
    "data = data.rename(columns = {'Close':'Actual_Close'})\n",
    "\n",
    "# Setup our target.  This identifies if the price went up or down\n",
    "data[\"Target\"] = msft_hist.rolling(2).apply(lambda x: x.iloc[1] > x.iloc[0])[\"Close\"]"
   ]
  },
  {
   "cell_type": "code",
   "execution_count": 195,
   "id": "fd644358-2713-4004-b2e5-be7150ae38ab",
   "metadata": {},
   "outputs": [],
   "source": [
    "# Shift stock prices forward one day, so we're predicting tomorrow's stock prices from today's prices.\n",
    "msft_prev = msft_hist.copy()\n",
    "msft_prev = msft_prev.shift(1)"
   ]
  },
  {
   "cell_type": "code",
   "execution_count": 196,
   "id": "eea608f5-c7ef-48e3-993e-d2f577a6e34c",
   "metadata": {},
   "outputs": [],
   "source": [
    "# Create our training data\n",
    "predictors = [\"Close\", \"Volume\", \"Open\", \"High\", \"Low\"]\n",
    "data = data.join(msft_prev[predictors]).iloc[1:]"
   ]
  },
  {
   "cell_type": "code",
   "execution_count": 197,
   "id": "b46f735a-2b79-42a6-ae48-3327bdc200f3",
   "metadata": {},
   "outputs": [
    {
     "data": {
      "text/html": [
       "<div>\n",
       "<style scoped>\n",
       "    .dataframe tbody tr th:only-of-type {\n",
       "        vertical-align: middle;\n",
       "    }\n",
       "\n",
       "    .dataframe tbody tr th {\n",
       "        vertical-align: top;\n",
       "    }\n",
       "\n",
       "    .dataframe thead th {\n",
       "        text-align: right;\n",
       "    }\n",
       "</style>\n",
       "<table border=\"1\" class=\"dataframe\">\n",
       "  <thead>\n",
       "    <tr style=\"text-align: right;\">\n",
       "      <th></th>\n",
       "      <th>Actual_Close</th>\n",
       "      <th>Target</th>\n",
       "      <th>Close</th>\n",
       "      <th>Volume</th>\n",
       "      <th>Open</th>\n",
       "      <th>High</th>\n",
       "      <th>Low</th>\n",
       "    </tr>\n",
       "  </thead>\n",
       "  <tbody>\n",
       "    <tr>\n",
       "      <th>1986-03-14</th>\n",
       "      <td>0.063570</td>\n",
       "      <td>1.0</td>\n",
       "      <td>0.061378</td>\n",
       "      <td>1.031789e+09</td>\n",
       "      <td>0.055898</td>\n",
       "      <td>0.064119</td>\n",
       "      <td>0.055898</td>\n",
       "    </tr>\n",
       "    <tr>\n",
       "      <th>1986-03-17</th>\n",
       "      <td>0.064667</td>\n",
       "      <td>1.0</td>\n",
       "      <td>0.063570</td>\n",
       "      <td>3.081600e+08</td>\n",
       "      <td>0.061378</td>\n",
       "      <td>0.064667</td>\n",
       "      <td>0.061378</td>\n",
       "    </tr>\n",
       "    <tr>\n",
       "      <th>1986-03-18</th>\n",
       "      <td>0.063022</td>\n",
       "      <td>0.0</td>\n",
       "      <td>0.064667</td>\n",
       "      <td>1.331712e+08</td>\n",
       "      <td>0.063570</td>\n",
       "      <td>0.065215</td>\n",
       "      <td>0.063570</td>\n",
       "    </tr>\n",
       "    <tr>\n",
       "      <th>1986-03-19</th>\n",
       "      <td>0.061926</td>\n",
       "      <td>0.0</td>\n",
       "      <td>0.063022</td>\n",
       "      <td>6.776640e+07</td>\n",
       "      <td>0.064667</td>\n",
       "      <td>0.065215</td>\n",
       "      <td>0.062474</td>\n",
       "    </tr>\n",
       "    <tr>\n",
       "      <th>1986-03-20</th>\n",
       "      <td>0.060282</td>\n",
       "      <td>0.0</td>\n",
       "      <td>0.061926</td>\n",
       "      <td>4.789440e+07</td>\n",
       "      <td>0.063022</td>\n",
       "      <td>0.063570</td>\n",
       "      <td>0.061378</td>\n",
       "    </tr>\n",
       "  </tbody>\n",
       "</table>\n",
       "</div>"
      ],
      "text/plain": [
       "            Actual_Close  Target     Close        Volume      Open      High  \\\n",
       "1986-03-14      0.063570     1.0  0.061378  1.031789e+09  0.055898  0.064119   \n",
       "1986-03-17      0.064667     1.0  0.063570  3.081600e+08  0.061378  0.064667   \n",
       "1986-03-18      0.063022     0.0  0.064667  1.331712e+08  0.063570  0.065215   \n",
       "1986-03-19      0.061926     0.0  0.063022  6.776640e+07  0.064667  0.065215   \n",
       "1986-03-20      0.060282     0.0  0.061926  4.789440e+07  0.063022  0.063570   \n",
       "\n",
       "                 Low  \n",
       "1986-03-14  0.055898  \n",
       "1986-03-17  0.061378  \n",
       "1986-03-18  0.063570  \n",
       "1986-03-19  0.062474  \n",
       "1986-03-20  0.061378  "
      ]
     },
     "execution_count": 197,
     "metadata": {},
     "output_type": "execute_result"
    }
   ],
   "source": [
    "data.head(5)"
   ]
  },
  {
   "cell_type": "markdown",
   "id": "c04059b2-5bba-4233-8250-4d11f243130a",
   "metadata": {},
   "source": [
    "## Creating a machine learning model\n",
    "\n",
    "Next, we'll create a machine learning model to see how accurately we can predict the stock price.\n",
    "\n",
    "Because we're dealing with time series data, we can't just use cross-validation to create predictions for the whole dataset.  This will cause leakage where data from the future will be used to predict past prices.  This doesn't match with the real world, and will make us think that our algorithm is much better than it actually is.\n",
    "\n",
    "Instead, we'll split the data sequentially.  We'll start off by predicting just the last 100 rows using the other rows.\n",
    "\n",
    "We'll use a random forest classifier to generate our predictions.  This is a good \"default\" model for a lot of applications, because it can pick up nonlinear relationships in the data, and is somewhat robust to overfitting with the right parameters."
   ]
  },
  {
   "cell_type": "code",
   "execution_count": 198,
   "id": "b39915f4-912e-4ccd-b1a6-045a1e3ebe9c",
   "metadata": {},
   "outputs": [
    {
     "data": {
      "text/plain": [
       "RandomForestClassifier(min_samples_split=200, random_state=1)"
      ]
     },
     "execution_count": 198,
     "metadata": {},
     "output_type": "execute_result"
    }
   ],
   "source": [
    "from sklearn.ensemble import RandomForestClassifier\n",
    "import numpy as np\n",
    "\n",
    "# Create a random forest classification model.  Set min_samples_split high to ensure we don't overfit.\n",
    "model = RandomForestClassifier(n_estimators=100, min_samples_split=200, random_state=1)\n",
    "\n",
    "# Create a train and test set\n",
    "train = data.iloc[:-100]\n",
    "test = data.iloc[-100:]\n",
    "\n",
    "model.fit(train[predictors], train[\"Target\"])"
   ]
  },
  {
   "cell_type": "markdown",
   "id": "1e7c7e8f-987f-415d-a650-bae50cb9c623",
   "metadata": {},
   "source": [
    "Next, we'll need to check how accurate the model was.  Earlier, we mentioned using `precision` to measure error.  We can do this by using the `precision_score` function from scikit-learn."
   ]
  },
  {
   "cell_type": "code",
   "execution_count": 199,
   "id": "5166dc96-9c6b-476a-9755-6f2e6a2e45f1",
   "metadata": {},
   "outputs": [
    {
     "data": {
      "text/plain": [
       "0.51"
      ]
     },
     "execution_count": 199,
     "metadata": {},
     "output_type": "execute_result"
    }
   ],
   "source": [
    "from sklearn.metrics import precision_score\n",
    "\n",
    "# Evaluate error of predictions\n",
    "preds = model.predict(test[predictors])\n",
    "preds = pd.Series(preds, index=test.index)\n",
    "precision_score(test[\"Target\"], preds)"
   ]
  },
  {
   "cell_type": "markdown",
   "id": "ad90cf27-9308-41b8-87eb-fe0b99f09e08",
   "metadata": {},
   "source": [
    "So our model is directionally accurate 51% of the time.  This is only a little bit better than a coin flip!  We can take a deeper look at the individual predictions and the actuals, and see where we're off."
   ]
  },
  {
   "cell_type": "code",
   "execution_count": 200,
   "id": "bf74e107-1fea-447d-a659-ddf18c016b5e",
   "metadata": {},
   "outputs": [
    {
     "data": {
      "text/plain": [
       "<AxesSubplot:>"
      ]
     },
     "execution_count": 200,
     "metadata": {},
     "output_type": "execute_result"
    },
    {
     "data": {
      "image/png": "[encoded data removed]",
      "text/plain": [
       "<Figure size 432x288 with 1 Axes>"
      ]
     },
     "metadata": {
      "needs_background": "light"
     },
     "output_type": "display_data"
    }
   ],
   "source": [
    "combined = pd.concat({\"Target\": test[\"Target\"],\"Predictions\": preds}, axis=1)\n",
    "combined.plot()"
   ]
  },
  {
   "cell_type": "markdown",
   "id": "deed266d-549c-4fc7-9934-5b9b249d0376",
   "metadata": {},
   "source": [
    "## Backtesting\n",
    "\n",
    "Our model isn't great, but luckily we can still improve it.  Before we do that, let's figure out how to make predictions across the entire dataset, not just the last 100 rows.  This will give us a more robust error estimate.  The last 100 days may have has atypical market conditions or other issues that make error metrics on those days unrealistic for future predictions (which are what we really care about).\n",
    "\n",
    "To do this, we'll need to backtest.  Backtesting ensures that we only use data from before the day that we're predicting.  If we use data from after the day we're predicting, the algorithm is unrealistic (in the real world, you won't be able to use future data to predict that past!).\n",
    "\n",
    "Our backtesting method will loop over the dataset, and train a model every 750 rows.  We'll make it a function so we can avoid rewriting the code if we want to backtest again.\n",
    "\n",
    "In the backtesting function, we will:\n",
    "\n",
    "* Split the training and test data\n",
    "* Train a model\n",
    "* Make predictions on the test data using `predict_proba` - this is because we want to really optimize for true positives.  By default, the threshold for splitting 0/1 is .5, but we can set it to different values to tweak the precision.  If we set it too high, we'll make fewer trades, but will have a lower potential for losses."
   ]
  },
  {
   "cell_type": "code",
   "execution_count": 201,
   "id": "9687c1d4-1be0-47f4-9fa7-cf8452c74c72",
   "metadata": {},
   "outputs": [],
   "source": [
    "def backtest(data, model, predictors, start=1000, step=750):\n",
    "    predictions = []\n",
    "    # Loop over the dataset in increments\n",
    "    for i in range(start, data.shape[0], step):\n",
    "        # Split into train and test sets\n",
    "        train = data.iloc[0:i].copy()\n",
    "        test = data.iloc[i:(i+step)].copy()\n",
    "        \n",
    "        # Fit the random forest model\n",
    "        model.fit(train[predictors], train[\"Target\"])\n",
    "        \n",
    "        # Make predictions\n",
    "        preds = model.predict_proba(test[predictors])[:,1]\n",
    "        preds = pd.Series(preds, index=test.index)\n",
    "        preds[preds > .6] = 1\n",
    "        preds[preds<=.6] = 0\n",
    "        \n",
    "        # Combine predictions and test values\n",
    "        combined = pd.concat({\"Target\": test[\"Target\"],\"Predictions\": preds}, axis=1)\n",
    "        \n",
    "        predictions.append(combined)\n",
    "    \n",
    "    return pd.concat(predictions)"
   ]
  },
  {
   "cell_type": "code",
   "execution_count": 202,
   "id": "6a5ee41b-cc06-45fd-af4a-e7fbfda0bd47",
   "metadata": {},
   "outputs": [],
   "source": [
    "predictions = backtest(data, model, predictors)"
   ]
  },
  {
   "cell_type": "markdown",
   "id": "d04f08f0-93c9-4e48-906b-095c9a48a5e5",
   "metadata": {},
   "source": [
    "As you can see, we're only making 742 trades.  This is because we used `.6` as a threshold for trading."
   ]
  },
  {
   "cell_type": "code",
   "execution_count": 203,
   "id": "6920d4b0-98a0-4ede-aa71-daa00d9dee58",
   "metadata": {},
   "outputs": [
    {
     "data": {
      "text/plain": [
       "0.0    7264\n",
       "1.0     742\n",
       "Name: Predictions, dtype: int64"
      ]
     },
     "execution_count": 203,
     "metadata": {},
     "output_type": "execute_result"
    }
   ],
   "source": [
    "predictions[\"Predictions\"].value_counts()"
   ]
  },
  {
   "cell_type": "code",
   "execution_count": 204,
   "id": "e88b3291-e672-4115-b825-a72f298e0fd2",
   "metadata": {},
   "outputs": [
    {
     "data": {
      "text/plain": [
       "0.5053908355795148"
      ]
     },
     "execution_count": 204,
     "metadata": {},
     "output_type": "execute_result"
    }
   ],
   "source": [
    "precision_score(predictions[\"Target\"], predictions[\"Predictions\"])"
   ]
  },
  {
   "cell_type": "markdown",
   "id": "1bfe3afb-c02b-49a1-80b6-61af0a07b680",
   "metadata": {},
   "source": [
    "## Improving accuracy\n",
    "\n",
    "The model isn't very accurate, but at least now we can make predictions across the entire history of the stock.  For this model to be useful, we have to get it to predict more accurately.\n",
    "\n",
    "Let's add some more predictors to see if we can improve accuracy.\n",
    "\n",
    "We'll add in some rolling means, so the model can evaluate the current price against recent prices.  We'll also look at the ratios between different indicators."
   ]
  },
  {
   "cell_type": "code",
   "execution_count": 222,
   "id": "c626bb8e-4798-4ae2-a71d-aa35ee3a2f1f",
   "metadata": {},
   "outputs": [],
   "source": [
    "weekly_mean = data.rolling(7).mean()\n",
    "quarterly_mean = data.rolling(90).mean()\n",
    "annual_mean = data.rolling(365).mean()\n",
    "weekly_trend = data.shift(1).rolling(7).mean()[\"Target\"]"
   ]
  },
  {
   "cell_type": "code",
   "execution_count": 223,
   "id": "9e5f7d62-50fc-428f-9bbb-91976265d61c",
   "metadata": {},
   "outputs": [],
   "source": [
    "data[\"weekly_mean\"] = weekly_mean[\"Close\"] / data[\"Close\"]\n",
    "data[\"quarterly_mean\"] = quarterly_mean[\"Close\"] / data[\"Close\"]\n",
    "data[\"annual_mean\"] = annual_mean[\"Close\"] / data[\"Close\"]\n",
    "\n",
    "data[\"annual_weekly_mean\"] = data[\"annual_mean\"] / data[\"weekly_mean\"]\n",
    "data[\"annual_quarterly_mean\"] = data[\"annual_mean\"] / data[\"quarterly_mean\"]\n",
    "data[\"weekly_trend\"] = weekly_trend\n",
    "\n",
    "data[\"open_close_ratio\"] = data[\"Open\"] / data[\"Close\"]\n",
    "data[\"high_close_ratio\"] = data[\"High\"] / data[\"Close\"]\n",
    "data[\"low_close_ratio\"] = data[\"Low\"] / data[\"Close\"]"
   ]
  },
  {
   "cell_type": "code",
   "execution_count": 224,
   "id": "5248e566-f28f-4b0b-b042-31c794193bce",
   "metadata": {},
   "outputs": [],
   "source": [
    "full_predictors = predictors + [\"weekly_mean\", \"quarterly_mean\", \"annual_mean\", \"annual_weekly_mean\", \"annual_quarterly_mean\", \"open_close_ratio\", \"high_close_ratio\", \"low_close_ratio\", \"weekly_trend\"]\n",
    "predictions = backtest(data.iloc[365:], model, full_predictors)"
   ]
  },
  {
   "cell_type": "code",
   "execution_count": 225,
   "id": "67a69920-e030-4975-ac80-dced781d546c",
   "metadata": {},
   "outputs": [
    {
     "data": {
      "text/plain": [
       "0.6616161616161617"
      ]
     },
     "execution_count": 225,
     "metadata": {},
     "output_type": "execute_result"
    }
   ],
   "source": [
    "precision_score(predictions[\"Target\"], predictions[\"Predictions\"])"
   ]
  },
  {
   "cell_type": "code",
   "execution_count": 226,
   "id": "d0be9777-de2e-4b42-8190-b6aff9760ac1",
   "metadata": {},
   "outputs": [
    {
     "data": {
      "text/plain": [
       "0.0    7443\n",
       "1.0     198\n",
       "Name: Predictions, dtype: int64"
      ]
     },
     "execution_count": 226,
     "metadata": {},
     "output_type": "execute_result"
    }
   ],
   "source": [
    "# Show how many trades we would make\n",
    "\n",
    "predictions[\"Predictions\"].value_counts()"
   ]
  },
  {
   "cell_type": "code",
   "execution_count": 210,
   "id": "943f1100-44a4-4b62-b9dc-309dccfe8c61",
   "metadata": {
    "tags": []
   },
   "outputs": [
    {
     "data": {
      "text/plain": [
       "<AxesSubplot:>"
      ]
     },
     "execution_count": 210,
     "metadata": {},
     "output_type": "execute_result"
    },
    {
     "data": {
      "image/png": "[encoded data removed]",
      "text/plain": [
       "<Figure size 432x288 with 1 Axes>"
      ]
     },
     "metadata": {
      "needs_background": "light"
     },
     "output_type": "display_data"
    }
   ],
   "source": [
    "predictions.iloc[-100:].plot()"
   ]
  },
  {
   "cell_type": "markdown",
   "id": "6743b773-8383-4615-857c-ffccee6ef0c8",
   "metadata": {},
   "source": [
    "## Next steps\n",
    "\n",
    "We've come far in this project!  We've downloaded and cleaned data, and setup a backtesting engine.  We now have an algorithm that we can add more predictors to and continue to improve the accuracy of.\n",
    "\n",
    "There are a lot of next steps we could take to improve our predictions:\n",
    "\n",
    "### Improve the technique\n",
    "\n",
    "* Calculate how much money you'd make if you traded with this algorithm\n",
    "\n",
    "### Improve the algorithm\n",
    "\n",
    "* Run with a reduced step size!  This will take longer, but increase accuracy\n",
    "* Try discarding older data (only keeping data in a certain window)\n",
    "* Try a different machine learning algorithm\n",
    "* Tweak random forest parameters, or the prediction threshold\n",
    "\n",
    "### Add in more predictors\n",
    "\n",
    "* Account for activity post-close and pre-open\n",
    "    * Early trading\n",
    "    * Trading on other exchanges that open before the NYSE (to see what the global sentiment is)\n",
    "* Economic indicators\n",
    "    * Interest rates\n",
    "    * Other important economic news\n",
    "* Key dates\n",
    "    * Dividends\n",
    "    * External factors like elections\n",
    "* Company milestones\n",
    "    * Earnings calls\n",
    "    * Analyst ratings\n",
    "    * Major announcements\n",
    "* Prices of related stocks\n",
    "    * Other companies in the same sector\n",
    "    * Key partners, customers, etc."
   ]
  }
 ],
 "metadata": {
  "kernelspec": {
   "display_name": "Python 3 (ipykernel)",
   "language": "python",
   "name": "python3"
  },
  "language_info": {
   "codemirror_mode": {
    "name": "ipython",
    "version": 3
   },
   "file_extension": ".py",
   "mimetype": "text/x-python",
   "name": "python",
   "nbconvert_exporter": "python",
   "pygments_lexer": "ipython3",
   "version": "3.9.7"
  }
 },
 "nbformat": 4,
 "nbformat_minor": 5
}
